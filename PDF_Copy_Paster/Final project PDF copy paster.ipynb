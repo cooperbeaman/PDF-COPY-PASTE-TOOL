{
 "cells": [
  {
   "cell_type": "markdown",
   "metadata": {},
   "source": [
    "## Introduction:  \n",
    "&nbsp;&nbsp;&nbsp;&nbsp;&nbsp;&nbsp;Ever since I've had to write essays and scientific reports, I've always had to copy quotes from my source's pdfs into word documents. While doing so, I quickly began to notice that when pasting pdf text into word documents, rather than appearing as it did in the pdf, the pasted text instead contained line breaks at the end of each line. This caused pasted text to appear separated making it difficult to read and wasting unnecessary space. To remedy this problem, I would first paste pdf text into a google chrome address bar which automatically replaced the unwanted line breaks with spaces, allowing the pasted text to display as a continuous block like it did in the pdf. However,  although more efficient than manually deleting the line breaks from within the word doc, this method was still quite slow and annoying so I decided to see if someone had already created a tool to automate the task in the background. After some research, I eventually discovered an AutoHotkey based windows tool called \"PDF Copy-Paster\" [1] that accomplished this task automatically in the background; it even had a toggle to append quotes to the copied text and could be accessed and exited through the windows taskbar tray. However for my final project, I wanted to add the ability to append a carriage return at the end of the pdf text which the program I discovered did not support and more importantly, I wanted to challenge myself to solve this pdf copying problem using Python (assuming I had never discovered the tool).\n",
    "\n",
    "## Description:  \n",
    "&nbsp;&nbsp;&nbsp;&nbsp;&nbsp;&nbsp;To reverse engineer the \"PDF Copy-Paster\" tool using Python, I had to start from scratch as the source code for the tool was not publicly available and even if it was, it was coded in a different language than Python. After hours of external research and tinkering, I eventually created a windows command prompt script that emulated the functionality of the AutoHotkey tool I had been using. To create my script I had to incorporate the following functionalities: interacting with the windows clipboard, running in the background, terminatable via user input, options for users to specify if they want quotes and/or a carriage return appended to their copied text, and most importantly removing line breaks from copied pdf text all before users paste their copied text into a word document.  \n",
    "&nbsp;&nbsp;&nbsp;&nbsp;&nbsp;&nbsp;The external module \"clipboard\" allows my script to continuously monitor clipboard activity and modify its contents while the threading module coupled with the while loop and termination functions allow it to continuously run in the background and be terminated by user input. Next an options function is run before the other two to allow users to specify if they want quotes and/or a carriage return to be appended to their copied text. Finally, a while loop function using the built in \"replace\" string method allows the script to continuously monitor and update clipboard contents with processed copied pdf text and automatically implement the script and carriage return options specified by the user via f-strings string literals and string concatenation respectively.\n",
    "\n",
    "## References:  \n",
    "[1] Inspiration for project and detailed explaination of problem:\n",
    "http://www.onehourprogramming.com/blog/2010/9/1/fix-copy-and-pasting-in-pdfs.html\n",
    "\n",
    "[2] Continuously monitor and modify clipboard contents in the background:\n",
    "https://stackoverflow.com/a/14687465/12363502\n",
    "\n",
    "[3] Request user input and setting it as the value of a variable:\n",
    "https://stackabuse.com/getting-user-input-in-python/\n",
    "\n",
    "[4] Terminate script running continuously in background on user input:\n",
    "https://stackoverflow.com/a/55822238/12363502\n",
    "\n",
    "[5] Interact with windows clipboard:\n",
    "https://stackoverflow.com/a/38068709/12363502\n",
    "\n",
    "[6] Automatically append quotes to copied text:\n",
    "https://stackoverflow.com/a/20056615/12363502\n",
    "\n",
    "## Instructions:  \n",
    "1. Install clipboard module for python from command prompt (\"pip install clipboard\").\n",
    "2. Extract downloaded project archive.\n",
    "3. Open windows command prompt.\n",
    "4. Change current working directory to script folder within extracted project folder (cd \"script location\"). \n",
    "5. Run pdfcp.py script (\"python pdfcp.py\" or \"python3 pdfcp.py\").\n",
    "6. Select optional operations (press enter for no or type <\"y\" + enter> for yes to that optional operation).\n",
    "7. Copy text from PDF and paste into word doc to watch the automation magic happen.\n",
    "8. When finished copying all quotes from PDF, press enter to terminate script.\n",
    "9. Repeat step 5 to change options and/or restart script (press <up arrow + enter> to repeat step 5 without retyping command)\n",
    "10. Enjoy the time you saved =)."
   ]
  },
  {
   "cell_type": "markdown",
   "metadata": {},
   "source": [
    "## Project Code:"
   ]
  },
  {
   "cell_type": "code",
   "execution_count": 1,
   "metadata": {},
   "outputs": [],
   "source": [
    "from my_module.functions import *"
   ]
  },
  {
   "cell_type": "code",
   "execution_count": 2,
   "metadata": {},
   "outputs": [
    {
     "name": "stdout",
     "output_type": "stream",
     "text": [
      "Append quotes to selected text? (y=yes): y\n",
      "Append carriage return to selected text? (y=yes): y\n",
      "Quotes WILL be appended\n",
      "A carriage return WILL be appended\n",
      "running...\n",
      "Press <enter> to terminate: \n",
      "pdfcp has terminated\n"
     ]
    }
   ],
   "source": [
    "run()"
   ]
  },
  {
   "cell_type": "markdown",
   "metadata": {},
   "source": [
    "## Github Public Repository:\n",
    "https://github.com/cooperbeaman/cogs18pdfcpfinalproject"
   ]
  }
 ],
 "metadata": {
  "kernelspec": {
   "display_name": "Python 3",
   "language": "python",
   "name": "python3"
  },
  "language_info": {
   "codemirror_mode": {
    "name": "ipython",
    "version": 3
   },
   "file_extension": ".py",
   "mimetype": "text/x-python",
   "name": "python",
   "nbconvert_exporter": "python",
   "pygments_lexer": "ipython3",
   "version": "3.7.3"
  }
 },
 "nbformat": 4,
 "nbformat_minor": 2
}
