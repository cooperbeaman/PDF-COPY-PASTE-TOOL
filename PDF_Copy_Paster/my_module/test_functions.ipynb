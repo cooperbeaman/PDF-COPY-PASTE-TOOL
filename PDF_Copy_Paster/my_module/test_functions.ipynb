{
 "cells": [
  {
   "cell_type": "code",
   "execution_count": null,
   "metadata": {},
   "outputs": [],
   "source": [
    "\"\"\"Tests for my functions.\n",
    "\"\"\"\n",
    "\n",
    "from functions import*"
   ]
  },
  {
   "cell_type": "markdown",
   "metadata": {},
   "source": [
    "copy this as example text:\n",
    "\"A\n",
    "B\n",
    "C\""
   ]
  },
  {
   "cell_type": "code",
   "execution_count": null,
   "metadata": {
    "scrolled": true
   },
   "outputs": [],
   "source": [
    "pdftext=clipboard.paste()\n",
    "def test_pdfcp():\n",
    "    options()\n",
    "    global quotes\n",
    "    global enter\n",
    "    threading.Thread(target=terminate).start()\n",
    "    pdfnew = \"\"\n",
    "    while f:\n",
    "        pdftxt = clipboard.paste()\n",
    "        if pdftxt != pdfnew:\n",
    "            pdfnew = pdftxt.replace(\"\\r\\n\",\" \")\n",
    "            clipboard.copy(pdfnew)\n",
    "        if pdftxt != pdfnew and quotes is \"y\":\n",
    "            pdfnew=f'\"{pdfnew}\"'\n",
    "            clipboard.copy(pdfnew)\n",
    "        if pdftxt != pdfnew and enter is \"y\":\n",
    "            pdfnew = (pdfnew + '\\r\\n\\r\\n')\n",
    "            clipboard.copy(pdfnew)\n",
    "        time.sleep(0.5)\n",
    "    assert pdfnew is not pdftxt\n",
    "\n",
    "test_pdfcp()"
   ]
  },
  {
   "cell_type": "code",
   "execution_count": null,
   "metadata": {},
   "outputs": [],
   "source": []
  },
  {
   "cell_type": "code",
   "execution_count": null,
   "metadata": {},
   "outputs": [],
   "source": []
  }
 ],
 "metadata": {
  "kernelspec": {
   "display_name": "Python 3",
   "language": "python",
   "name": "python3"
  },
  "language_info": {
   "codemirror_mode": {
    "name": "ipython",
    "version": 3
   },
   "file_extension": ".py",
   "mimetype": "text/x-python",
   "name": "python",
   "nbconvert_exporter": "python",
   "pygments_lexer": "ipython3",
   "version": "3.7.3"
  }
 },
 "nbformat": 4,
 "nbformat_minor": 2
}
